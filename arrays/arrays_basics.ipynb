{
 "cells": [
  {
   "cell_type": "code",
   "execution_count": 2,
   "id": "7167430f-79a6-4f42-978f-d651b0afe30f",
   "metadata": {},
   "outputs": [
    {
     "name": "stdout",
     "output_type": "stream",
     "text": [
      "Full array: [10, 20, 30, 40, 50]\n",
      "First element: 10\n",
      "Last element: 50\n",
      "Length of array: 5\n",
      "Element at index 0 is 10\n",
      "Element at index 1 is 20\n",
      "Element at index 2 is 30\n",
      "Element at index 3 is 40\n",
      "Element at index 4 is 50\n",
      "Even elements:\n",
      "10 20 30 40 50 "
     ]
    }
   ],
   "source": [
    "\n",
    "# 🧠 What is an Array?\n",
    "# An array is a collection of elements of the same data type stored in contiguous memory.\n",
    "\n",
    "# 📌 Key Properties:\n",
    "# - Fixed size\n",
    "# - Fast access using indices\n",
    "# - Stored in continuous memory\n",
    "# - All elements have the same type\n",
    "\n",
    "# ✅ Example: Creating and accessing a simple array in Python\n",
    "\n",
    "arr = [10, 20, 30, 40, 50]\n",
    "\n",
    "print(\"Full array:\", arr)\n",
    "print(\"First element:\", arr[0])      # 10\n",
    "print(\"Last element:\", arr[-1])      # 50\n",
    "print(\"Length of array:\", len(arr))  # 5\n",
    "\n",
    "# 🔄 Traversing the array\n",
    "for i in range(len(arr)):\n",
    "    print(f\"Element at index {i} is {arr[i]}\")\n",
    "\n",
    "# 🧪 Mini Exercise:\n",
    "# Print all even numbers in the array\n",
    "\n",
    "print(\"Even elements:\")\n",
    "for num in arr:\n",
    "    if num % 2 == 0:\n",
    "        print(num, end=\" \")"
   ]
  },
  {
   "cell_type": "code",
   "execution_count": null,
   "id": "00271ddb-4754-4936-a92b-6d98a535d12d",
   "metadata": {},
   "outputs": [],
   "source": []
  }
 ],
 "metadata": {
  "kernelspec": {
   "display_name": "Python 3 (ipykernel)",
   "language": "python",
   "name": "python3"
  },
  "language_info": {
   "codemirror_mode": {
    "name": "ipython",
    "version": 3
   },
   "file_extension": ".py",
   "mimetype": "text/x-python",
   "name": "python",
   "nbconvert_exporter": "python",
   "pygments_lexer": "ipython3",
   "version": "3.13.1"
  }
 },
 "nbformat": 4,
 "nbformat_minor": 5
}
