{
 "cells": [
  {
   "cell_type": "code",
   "execution_count": 5,
   "id": "185e3d61-b1d4-4288-9617-a59aecbb03d0",
   "metadata": {},
   "outputs": [
    {
     "name": "stdout",
     "output_type": "stream",
     "text": [
      "89\n",
      "144\n"
     ]
    }
   ],
   "source": [
    "def fib(n):\n",
    "    if n <= 1:\n",
    "        return n\n",
    "    return fib(n - 1) + fib(n - 2)\n",
    "\n",
    "print(fib(11))  # 89\n",
    "print(fib(12))  # 144\n",
    "\n",
    "# time complexity: O(2^n)\n",
    "# space complexity: O(n)"
   ]
  },
  {
   "cell_type": "code",
   "execution_count": 7,
   "id": "c59b7c4e-bd1e-4785-bcad-3ddbde48d9fb",
   "metadata": {},
   "outputs": [
    {
     "name": "stdout",
     "output_type": "stream",
     "text": [
      "[[], [3], [2], [2, 3], [1], [1, 3], [1, 2], [1, 2, 3]]\n"
     ]
    }
   ],
   "source": [
    "def generate_subsets(nums):\n",
    "    result = []\n",
    "\n",
    "    def backtrack(index, current):\n",
    "        if index == len(nums):\n",
    "            result.append(current[:])\n",
    "            return\n",
    "\n",
    "        # exclude current number\n",
    "        backtrack(index + 1, current)\n",
    "\n",
    "        # include current number\n",
    "        current.append(nums[index])\n",
    "        backtrack(index + 1, current)\n",
    "        current.pop()\n",
    "\n",
    "    backtrack(0, [])\n",
    "    return result\n",
    "\n",
    "print(generate_subsets([1, 2, 3]))\n",
    "\n",
    "# time complexity: O(2^n)\n",
    "# space complexity: O(n · 2ⁿ)"
   ]
  },
  {
   "cell_type": "code",
   "execution_count": null,
   "id": "900d9542-5c39-4f4d-9c1f-315c964077a7",
   "metadata": {},
   "outputs": [],
   "source": []
  }
 ],
 "metadata": {
  "kernelspec": {
   "display_name": "Python 3 (ipykernel)",
   "language": "python",
   "name": "python3"
  },
  "language_info": {
   "codemirror_mode": {
    "name": "ipython",
    "version": 3
   },
   "file_extension": ".py",
   "mimetype": "text/x-python",
   "name": "python",
   "nbconvert_exporter": "python",
   "pygments_lexer": "ipython3",
   "version": "3.13.1"
  }
 },
 "nbformat": 4,
 "nbformat_minor": 5
}
