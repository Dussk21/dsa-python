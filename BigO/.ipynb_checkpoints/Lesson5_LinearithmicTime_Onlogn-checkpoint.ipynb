{
 "cells": [
  {
   "cell_type": "code",
   "execution_count": 1,
   "id": "6e35645d-c84e-4531-8095-5e685e1adab6",
   "metadata": {},
   "outputs": [
    {
     "name": "stdout",
     "output_type": "stream",
     "text": [
      "[1, 2, 3, 5, 9]\n",
      "[3, 4, 5, 6, 7]\n"
     ]
    }
   ],
   "source": [
    "def merge_sort(arr):\n",
    "    if len(arr) <= 1:\n",
    "        return arr\n",
    "    mid = len(arr) // 2\n",
    "    left = merge_sort(arr[:mid])\n",
    "    right = merge_sort(arr[mid:])\n",
    "    return merge(left, right)\n",
    "\n",
    "def merge(left, right):\n",
    "    result = []\n",
    "    i = j = 0\n",
    "    while i < len(left) and j < len(right):\n",
    "        if left[i] <= right[j]:\n",
    "            result.append(left[i])\n",
    "            i += 1\n",
    "        else:\n",
    "            result.append(right[j])\n",
    "            j += 1\n",
    "    result.extend(left[i:])\n",
    "    result.extend(right[j:])\n",
    "    return result\n",
    "\n",
    "# Test Cases\n",
    "print(merge_sort([5, 2, 9, 1, 3]))     # [1, 2, 3, 5, 9]\n",
    "print(merge_sort([7, 6, 5, 4, 3]))     # [3, 4, 5, 6, 7]\n",
    "\n",
    "# Time Complexity: O(n log n)\n",
    "# Space Complexity: O(n)"
   ]
  },
  {
   "cell_type": "code",
   "execution_count": 2,
   "id": "615bca20-82ae-4c9e-9812-dd67e39f22ad",
   "metadata": {},
   "outputs": [
    {
     "name": "stdout",
     "output_type": "stream",
     "text": [
      "['apple', 'banana', 'cherry', 'grape']\n",
      "['ant', 'cat', 'dog', 'zebra']\n"
     ]
    }
   ],
   "source": [
    "def sort_strings(arr):\n",
    "    return merge_sort(arr)\n",
    "\n",
    "# Uses previous merge_sort() and merge() functions from Lesson 5\n",
    "\n",
    "# Test Cases\n",
    "print(sort_strings([\"apple\", \"banana\", \"grape\", \"cherry\"]))  # ['apple', 'banana', 'cherry', 'grape']\n",
    "print(sort_strings([\"dog\", \"cat\", \"zebra\", \"ant\"]))           # ['ant', 'cat', 'dog', 'zebra']\n",
    "\n",
    "# Time Complexity: O(n log n)\n",
    "# Space Complexity: O(n)"
   ]
  },
  {
   "cell_type": "code",
   "execution_count": null,
   "id": "74549aee-47ed-4fbe-aad1-44158f058f65",
   "metadata": {},
   "outputs": [],
   "source": []
  }
 ],
 "metadata": {
  "kernelspec": {
   "display_name": "Python 3 (ipykernel)",
   "language": "python",
   "name": "python3"
  },
  "language_info": {
   "codemirror_mode": {
    "name": "ipython",
    "version": 3
   },
   "file_extension": ".py",
   "mimetype": "text/x-python",
   "name": "python",
   "nbconvert_exporter": "python",
   "pygments_lexer": "ipython3",
   "version": "3.13.1"
  }
 },
 "nbformat": 4,
 "nbformat_minor": 5
}
