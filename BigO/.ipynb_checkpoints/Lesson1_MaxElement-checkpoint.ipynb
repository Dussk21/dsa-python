{
 "cells": [
  {
   "cell_type": "code",
   "execution_count": 6,
   "id": "f6d169aa-2587-4d6a-bef6-4512009a430f",
   "metadata": {},
   "outputs": [
    {
     "name": "stdin",
     "output_type": "stream",
     "text": [
      "enter numbers separated by space:  5 4 6 7 8 2\n"
     ]
    },
    {
     "name": "stdout",
     "output_type": "stream",
     "text": [
      "Max: 8\n"
     ]
    }
   ],
   "source": [
    "def find_max(arr):\n",
    "    # Assume arr is non-empty\n",
    "    max_val = arr[0]          # O(1)\n",
    "    for num in arr:           # O(n)\n",
    "        if num > max_val:\n",
    "            max_val = num    # O(1)\n",
    "    return max_val            # O(1)\n",
    "\n",
    "message = input(\"enter numbers separated by space: \")\n",
    "usr_str = message.split()\n",
    "\n",
    "numbers = []\n",
    "\n",
    "for num in usr_str:\n",
    "    numbers.append(int(num))\n",
    "\n",
    "print(\"Max:\", find_max(numbers))\n",
    "\n",
    "#time complexity: O(n) \n",
    "#space complexity: O(n) "
   ]
  },
  {
   "cell_type": "code",
   "execution_count": 1,
   "id": "cb21bfe8-3be0-4523-abc1-728ac34a7e12",
   "metadata": {},
   "outputs": [
    {
     "name": "stdout",
     "output_type": "stream",
     "text": [
      "True\n",
      "False\n"
     ]
    }
   ],
   "source": [
    "def contains(arr, x):\n",
    "    for item in arr:\n",
    "        if item == x:\n",
    "            return True\n",
    "    return False\n",
    "\n",
    "# Example\n",
    "print(contains([1, 3, 5, 7], 5))  # True\n",
    "print(contains([1, 3, 5, 7], 2))  # False\n",
    "\n",
    "# time complexity: O(n) \n",
    "# space complexity: o(1)\n"
   ]
  },
  {
   "cell_type": "code",
   "execution_count": null,
   "id": "070f2fbf-aa2b-4c7f-bb15-ff1efe3a900d",
   "metadata": {},
   "outputs": [],
   "source": []
  }
 ],
 "metadata": {
  "kernelspec": {
   "display_name": "Python 3 (ipykernel)",
   "language": "python",
   "name": "python3"
  },
  "language_info": {
   "codemirror_mode": {
    "name": "ipython",
    "version": 3
   },
   "file_extension": ".py",
   "mimetype": "text/x-python",
   "name": "python",
   "nbconvert_exporter": "python",
   "pygments_lexer": "ipython3",
   "version": "3.13.1"
  }
 },
 "nbformat": 4,
 "nbformat_minor": 5
}
