{
 "cells": [
  {
   "cell_type": "code",
   "execution_count": 1,
   "id": "9f461d01-eecb-4c6c-bc7a-3f1b29bbde8f",
   "metadata": {},
   "outputs": [
    {
     "name": "stdout",
     "output_type": "stream",
     "text": [
      "10\n",
      "None\n"
     ]
    }
   ],
   "source": [
    "def get_first_element(arr):\n",
    "    if arr:\n",
    "        return arr[0]\n",
    "    return None\n",
    "\n",
    "# Test Cases\n",
    "print(get_first_element([10, 20, 30]))  # 10\n",
    "print(get_first_element([]))            # None\n",
    "\n",
    "# Time Complexity: O(1)\n",
    "# Space Complexity: O(1)"
   ]
  },
  {
   "cell_type": "code",
   "execution_count": 2,
   "id": "1099461e-a48d-43e8-af19-8126a5587f89",
   "metadata": {},
   "outputs": [
    {
     "name": "stdout",
     "output_type": "stream",
     "text": [
      "True\n",
      "False\n"
     ]
    }
   ],
   "source": [
    "def is_even_number(arr):\n",
    "    return arr[0] % 2 == 0 if arr else False\n",
    "\n",
    "# Test Cases\n",
    "print(is_even_number([4, 5, 6]))  # True\n",
    "print(is_even_number([1, 3, 5]))  # False\n",
    "\n",
    "# Time Complexity: O(1)\n",
    "# Space Complexity: O(1)"
   ]
  },
  {
   "cell_type": "code",
   "execution_count": null,
   "id": "00765e36-50d3-47bb-b565-e51e4490abd7",
   "metadata": {},
   "outputs": [],
   "source": []
  }
 ],
 "metadata": {
  "kernelspec": {
   "display_name": "Python 3 (ipykernel)",
   "language": "python",
   "name": "python3"
  },
  "language_info": {
   "codemirror_mode": {
    "name": "ipython",
    "version": 3
   },
   "file_extension": ".py",
   "mimetype": "text/x-python",
   "name": "python",
   "nbconvert_exporter": "python",
   "pygments_lexer": "ipython3",
   "version": "3.13.1"
  }
 },
 "nbformat": 4,
 "nbformat_minor": 5
}
