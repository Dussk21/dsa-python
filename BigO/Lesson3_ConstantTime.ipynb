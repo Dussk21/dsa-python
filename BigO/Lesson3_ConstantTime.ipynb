{
 "cells": [
  {
   "cell_type": "code",
   "execution_count": 3,
   "id": "64efa4eb-b4a7-488e-a2a9-f138affe2e38",
   "metadata": {},
   "outputs": [
    {
     "name": "stdout",
     "output_type": "stream",
     "text": [
      "Element at index 2: 30\n",
      "Sum: 15\n"
     ]
    }
   ],
   "source": [
    "# Example of O(1) operations\n",
    "\n",
    "my_list = [10, 20, 30, 40, 50]\n",
    "\n",
    "# Accessing an element by index (constant time)\n",
    "element = my_list[2]  # 30\n",
    "print(\"Element at index 2:\", element)\n",
    "\n",
    "# Simple arithmetic operation (also O(1))\n",
    "x = 5\n",
    "y = 10\n",
    "z = x + y\n",
    "print(\"Sum:\", z)\n",
    "\n",
    "# time complexity: O(1)\n",
    "# space complexity: O(1)"
   ]
  },
  {
   "cell_type": "code",
   "execution_count": null,
   "id": "d2284231-effd-4e01-ab8f-1386cb74245d",
   "metadata": {},
   "outputs": [],
   "source": [
    "# another example\n",
    "def is_even(num):\n",
    "    return num % 2 == 0\n",
    "\n",
    "print(is_even(42))  # True\n",
    "print(is_even(15))  # False"
   ]
  }
 ],
 "metadata": {
  "kernelspec": {
   "display_name": "Python 3 (ipykernel)",
   "language": "python",
   "name": "python3"
  },
  "language_info": {
   "codemirror_mode": {
    "name": "ipython",
    "version": 3
   },
   "file_extension": ".py",
   "mimetype": "text/x-python",
   "name": "python",
   "nbconvert_exporter": "python",
   "pygments_lexer": "ipython3",
   "version": "3.13.1"
  }
 },
 "nbformat": 4,
 "nbformat_minor": 5
}
