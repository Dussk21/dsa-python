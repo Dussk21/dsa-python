{
 "cells": [
  {
   "cell_type": "code",
   "execution_count": 1,
   "id": "57759512-f899-4b03-accb-aff93a4a27dc",
   "metadata": {},
   "outputs": [
    {
     "name": "stdout",
     "output_type": "stream",
     "text": [
      "[1, 2, 3, 4, 5, 6, 7, 8]\n"
     ]
    }
   ],
   "source": [
    "def merge_sort(arr):\n",
    "    if len(arr) <= 1:\n",
    "        return arr\n",
    "\n",
    "    mid = len(arr) // 2\n",
    "    left = merge_sort(arr[:mid])\n",
    "    right = merge_sort(arr[mid:])\n",
    "\n",
    "    return merge(left, right)\n",
    "\n",
    "def merge(left, right):\n",
    "    result = []\n",
    "    i = j = 0\n",
    "\n",
    "    while i < len(left) and j < len(right):\n",
    "        if left[i] <= right[j]:\n",
    "            result.append(left[i])\n",
    "            i += 1\n",
    "        else:\n",
    "            result.append(right[j])\n",
    "            j += 1\n",
    "\n",
    "    result.extend(left[i:])\n",
    "    result.extend(right[j:])\n",
    "    return result\n",
    "\n",
    "arr = [6, 3, 8, 5, 2, 7, 4, 1]\n",
    "print(merge_sort(arr))\n",
    "\n",
    "#time complexity: O(n log n)\n",
    "#space complexity: O(n)"
   ]
  },
  {
   "cell_type": "code",
   "execution_count": 4,
   "id": "ce08c905-15a9-4d6d-968a-d1a06853c735",
   "metadata": {},
   "outputs": [
    {
     "name": "stdout",
     "output_type": "stream",
     "text": [
      "3\n",
      "0\n",
      "10\n",
      "3\n"
     ]
    }
   ],
   "source": [
    "def count_inversions(arr):\n",
    "    def merge_sort(arr):\n",
    "        if len(arr) <= 1:\n",
    "            return arr, 0\n",
    "\n",
    "        mid = len(arr) // 2\n",
    "        left, inv_left = merge_sort(arr[:mid])\n",
    "        right, inv_right = merge_sort(arr[mid:])\n",
    "        merged, inv_merge = merge_and_count(left, right)\n",
    "\n",
    "        return merged, inv_left + inv_right + inv_merge\n",
    "\n",
    "    def merge_and_count(left, right):\n",
    "        i = j = inv_count = 0\n",
    "        merged = []\n",
    "\n",
    "        while i < len(left) and j < len(right):\n",
    "            if left[i] <= right[j]:\n",
    "                merged.append(left[i])\n",
    "                i += 1\n",
    "            else:\n",
    "                merged.append(right[j])\n",
    "                inv_count += len(left) - i  # key part\n",
    "                j += 1\n",
    "\n",
    "        merged.extend(left[i:])\n",
    "        merged.extend(right[j:])\n",
    "        return merged, inv_count\n",
    "\n",
    "    _, total_inversions = merge_sort(arr)\n",
    "    return total_inversions\n",
    "\n",
    "print(count_inversions([2, 4, 1, 3, 5]))       # Expected: 3\n",
    "print(count_inversions([1, 2, 3, 4, 5]))       # Expected: 0 (sorted)\n",
    "print(count_inversions([5, 4, 3, 2, 1]))       # Expected: 10 (max inversions)\n",
    "print(count_inversions([1, 3, 5, 2, 4, 6]))    # Expected: 3\n",
    "\n",
    "# time complexity: O(n log n)\n",
    "# space complexity: O(n)"
   ]
  },
  {
   "cell_type": "code",
   "execution_count": null,
   "id": "e561e121-cdaf-415f-8269-adfb420a8553",
   "metadata": {},
   "outputs": [],
   "source": []
  }
 ],
 "metadata": {
  "kernelspec": {
   "display_name": "Python 3 (ipykernel)",
   "language": "python",
   "name": "python3"
  },
  "language_info": {
   "codemirror_mode": {
    "name": "ipython",
    "version": 3
   },
   "file_extension": ".py",
   "mimetype": "text/x-python",
   "name": "python",
   "nbconvert_exporter": "python",
   "pygments_lexer": "ipython3",
   "version": "3.13.1"
  }
 },
 "nbformat": 4,
 "nbformat_minor": 5
}
