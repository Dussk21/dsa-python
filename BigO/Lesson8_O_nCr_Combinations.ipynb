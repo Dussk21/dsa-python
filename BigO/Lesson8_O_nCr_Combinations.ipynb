{
 "cells": [
  {
   "cell_type": "code",
   "execution_count": 1,
   "id": "af19610a-1611-467a-b362-d1019c4fc01c",
   "metadata": {},
   "outputs": [
    {
     "name": "stdout",
     "output_type": "stream",
     "text": [
      "[('a', 'b'), ('a', 'c'), ('b', 'c')]\n",
      "[(1, 2, 3), (1, 2, 4), (1, 3, 4), (2, 3, 4)]\n"
     ]
    }
   ],
   "source": [
    "import itertools\n",
    "\n",
    "def generate_combinations(arr, r):\n",
    "    return list(itertools.combinations(arr, r))\n",
    "\n",
    "# Test Cases\n",
    "print(generate_combinations(['a', 'b', 'c'], 2))\n",
    "# Output: [('a', 'b'), ('a', 'c'), ('b', 'c')]\n",
    "\n",
    "print(generate_combinations([1, 2, 3, 4], 3))\n",
    "# Output: [(1, 2, 3), (1, 2, 4), (1, 3, 4), (2, 3, 4)]\n",
    "\n",
    "# Time Complexity: O(nCr)\n",
    "# Space Complexity: O(nCr * r)"
   ]
  },
  {
   "cell_type": "code",
   "execution_count": 3,
   "id": "6937286a-973c-4fc7-8aab-7f967dddfa4e",
   "metadata": {},
   "outputs": [
    {
     "name": "stdout",
     "output_type": "stream",
     "text": [
      "[['x', 'y'], ['x', 'z'], ['x', 'w'], ['y', 'z'], ['y', 'w'], ['z', 'w']]\n",
      "[[1, 2, 3], [1, 2, 4], [1, 2, 5], [1, 3, 4], [1, 3, 5], [1, 4, 5], [2, 3, 4], [2, 3, 5], [2, 4, 5], [3, 4, 5]]\n"
     ]
    }
   ],
   "source": [
    "def combine_recursive(arr, r):\n",
    "    result = []\n",
    "\n",
    "    def backtrack(start, path):\n",
    "        if len(path) == r:\n",
    "            result.append(path[:])\n",
    "            return\n",
    "        for i in range(start, len(arr)):\n",
    "            path.append(arr[i])\n",
    "            backtrack(i + 1, path)\n",
    "            path.pop()\n",
    "\n",
    "    backtrack(0, [])\n",
    "    return result\n",
    "\n",
    "# Test Cases\n",
    "print(combine_recursive(['x', 'y', 'z', 'w'], 2))\n",
    "# Output: [['x', 'y'], ['x', 'z'], ['x', 'w'], ['y', 'z'], ['y', 'w'], ['z', 'w']]\n",
    "\n",
    "print(combine_recursive([1, 2, 3, 4, 5], 3))\n",
    "# Output: [[1, 2, 3], [1, 2, 4], [1, 2, 5], [1, 3, 4], ..., [3, 4, 5]]\n",
    "\n",
    "# Time Complexity: O(nCr)\n",
    "# Space Complexity: O(nCr * r)"
   ]
  },
  {
   "cell_type": "code",
   "execution_count": null,
   "id": "d230edd7-3480-4f5f-a68e-6cdb79548b14",
   "metadata": {},
   "outputs": [],
   "source": []
  }
 ],
 "metadata": {
  "kernelspec": {
   "display_name": "Python 3 (ipykernel)",
   "language": "python",
   "name": "python3"
  },
  "language_info": {
   "codemirror_mode": {
    "name": "ipython",
    "version": 3
   },
   "file_extension": ".py",
   "mimetype": "text/x-python",
   "name": "python",
   "nbconvert_exporter": "python",
   "pygments_lexer": "ipython3",
   "version": "3.13.1"
  }
 },
 "nbformat": 4,
 "nbformat_minor": 5
}
