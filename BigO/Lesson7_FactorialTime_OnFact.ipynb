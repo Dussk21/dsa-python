{
 "cells": [
  {
   "cell_type": "code",
   "execution_count": 1,
   "id": "a1550326-f592-46bd-96fd-bc2350bb8a48",
   "metadata": {},
   "outputs": [
    {
     "name": "stdout",
     "output_type": "stream",
     "text": [
      "[[1, 2], [2, 1]]\n",
      "[[1, 2, 3], [1, 3, 2], [2, 1, 3], [2, 3, 1], [3, 2, 1], [3, 1, 2]]\n"
     ]
    }
   ],
   "source": [
    "def generate_permutations(nums):\n",
    "    result = []\n",
    "\n",
    "    def backtrack(start):\n",
    "        if start == len(nums):\n",
    "            result.append(nums[:])\n",
    "            return\n",
    "        for i in range(start, len(nums)):\n",
    "            nums[start], nums[i] = nums[i], nums[start]\n",
    "            backtrack(start + 1)\n",
    "            nums[start], nums[i] = nums[i], nums[start]\n",
    "\n",
    "    backtrack(0)\n",
    "    return result\n",
    "\n",
    "# Test Cases\n",
    "print(generate_permutations([1, 2]))     # [[1, 2], [2, 1]]\n",
    "print(generate_permutations([1, 2, 3]))  # [[1,2,3], [1,3,2], ..., [3,2,1]]\n",
    "\n",
    "# Time Complexity: O(n!)\n",
    "# Space Complexity: O(n!) + O(n) for recursion stack"
   ]
  },
  {
   "cell_type": "code",
   "execution_count": null,
   "id": "cc1eb9e4-3b66-4b88-aa7e-6ec985599f06",
   "metadata": {},
   "outputs": [],
   "source": []
  }
 ],
 "metadata": {
  "kernelspec": {
   "display_name": "Python 3 (ipykernel)",
   "language": "python",
   "name": "python3"
  },
  "language_info": {
   "codemirror_mode": {
    "name": "ipython",
    "version": 3
   },
   "file_extension": ".py",
   "mimetype": "text/x-python",
   "name": "python",
   "nbconvert_exporter": "python",
   "pygments_lexer": "ipython3",
   "version": "3.13.1"
  }
 },
 "nbformat": 4,
 "nbformat_minor": 5
}
