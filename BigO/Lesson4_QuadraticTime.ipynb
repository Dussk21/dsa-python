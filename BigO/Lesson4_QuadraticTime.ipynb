{
 "cells": [
  {
   "cell_type": "code",
   "execution_count": 1,
   "id": "8d3bc6b2-1f9f-4717-ae50-3c70bbc2757a",
   "metadata": {},
   "outputs": [
    {
     "name": "stdout",
     "output_type": "stream",
     "text": [
      "Pair: (1, 1)\n",
      "Pair: (1, 2)\n",
      "Pair: (1, 3)\n",
      "Pair: (1, 4)\n",
      "Pair: (1, 5)\n",
      "Pair: (2, 1)\n",
      "Pair: (2, 2)\n",
      "Pair: (2, 3)\n",
      "Pair: (2, 4)\n",
      "Pair: (2, 5)\n",
      "Pair: (3, 1)\n",
      "Pair: (3, 2)\n",
      "Pair: (3, 3)\n",
      "Pair: (3, 4)\n",
      "Pair: (3, 5)\n",
      "Pair: (4, 1)\n",
      "Pair: (4, 2)\n",
      "Pair: (4, 3)\n",
      "Pair: (4, 4)\n",
      "Pair: (4, 5)\n",
      "Pair: (5, 1)\n",
      "Pair: (5, 2)\n",
      "Pair: (5, 3)\n",
      "Pair: (5, 4)\n",
      "Pair: (5, 5)\n"
     ]
    }
   ],
   "source": [
    "# Example of O(n^2) - nested loops\n",
    "\n",
    "my_list = [1, 2, 3, 4, 5]\n",
    "\n",
    "for i in range(len(my_list)):\n",
    "    for j in range(len(my_list)):\n",
    "        print(f\"Pair: ({my_list[i]}, {my_list[j]})\")\n",
    "\n",
    "# time complexity: O(n^2)\n",
    "# space complexity: O(1)"
   ]
  },
  {
   "cell_type": "code",
   "execution_count": 7,
   "id": "54afd9f3-fd9a-41c4-8dc4-d64f5827e634",
   "metadata": {},
   "outputs": [
    {
     "name": "stdout",
     "output_type": "stream",
     "text": [
      "False\n",
      "True\n"
     ]
    }
   ],
   "source": [
    "def has_duplicates(arr):\n",
    "    for i in range(len(arr)):\n",
    "        for j in range(i+1, len(arr)):\n",
    "            if arr[i] == arr[j]:\n",
    "                return True\n",
    "    return False\n",
    "\n",
    "numbers = [1, 2, 3, 4]\n",
    "numbers2 = [2, 2, 3, 4]\n",
    "print(has_duplicates(numbers))\n",
    "print(has_duplicates(numbers2))\n",
    "\n",
    "#time complexity: O(n^2)\n",
    "#space complexity: O(1)\n"
   ]
  },
  {
   "cell_type": "code",
   "execution_count": null,
   "id": "729f420d-4996-491e-ad93-f0c25773b6f6",
   "metadata": {},
   "outputs": [],
   "source": []
  }
 ],
 "metadata": {
  "kernelspec": {
   "display_name": "Python 3 (ipykernel)",
   "language": "python",
   "name": "python3"
  },
  "language_info": {
   "codemirror_mode": {
    "name": "ipython",
    "version": 3
   },
   "file_extension": ".py",
   "mimetype": "text/x-python",
   "name": "python",
   "nbconvert_exporter": "python",
   "pygments_lexer": "ipython3",
   "version": "3.13.1"
  }
 },
 "nbformat": 4,
 "nbformat_minor": 5
}
