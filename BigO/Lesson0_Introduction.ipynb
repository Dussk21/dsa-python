{
 "cells": [
  {
   "cell_type": "code",
   "execution_count": 1,
   "id": "08ba6139-1e09-419a-acd9-952360345036",
   "metadata": {},
   "outputs": [
    {
     "name": "stdout",
     "output_type": "stream",
     "text": [
      "Hello, Ibrahim! This is your first DSA push.\n"
     ]
    }
   ],
   "source": [
    "# This is just a test notebook\n",
    "print(\"Hello, Ibrahim! This is your first DSA push.\")"
   ]
  },
  {
   "cell_type": "code",
   "execution_count": null,
   "id": "9a4d2732-d7d7-4e81-9fce-9fb45efccc4b",
   "metadata": {},
   "outputs": [],
   "source": []
  }
 ],
 "metadata": {
  "kernelspec": {
   "display_name": "Python 3 (ipykernel)",
   "language": "python",
   "name": "python3"
  },
  "language_info": {
   "codemirror_mode": {
    "name": "ipython",
    "version": 3
   },
   "file_extension": ".py",
   "mimetype": "text/x-python",
   "name": "python",
   "nbconvert_exporter": "python",
   "pygments_lexer": "ipython3",
   "version": "3.13.1"
  }
 },
 "nbformat": 4,
 "nbformat_minor": 5
}
