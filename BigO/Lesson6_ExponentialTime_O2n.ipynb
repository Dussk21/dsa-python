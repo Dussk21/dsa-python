{
 "cells": [
  {
   "cell_type": "code",
   "execution_count": 1,
   "id": "d349649a-24de-4137-a5f0-a021eae28eef",
   "metadata": {},
   "outputs": [
    {
     "name": "stdout",
     "output_type": "stream",
     "text": [
      "5\n",
      "8\n"
     ]
    }
   ],
   "source": [
    "def fib(n):\n",
    "    if n <= 1:\n",
    "        return n\n",
    "    return fib(n - 1) + fib(n - 2)\n",
    "\n",
    "# Test Cases\n",
    "print(fib(5))  # 5\n",
    "print(fib(6))  # 8\n",
    "\n",
    "# Time Complexity: O(2ⁿ)\n",
    "# Space Complexity: O(n)"
   ]
  },
  {
   "cell_type": "code",
   "execution_count": 2,
   "id": "d70da977-43b2-45e4-b2be-3e757c0bc6eb",
   "metadata": {},
   "outputs": [
    {
     "name": "stdout",
     "output_type": "stream",
     "text": [
      "[[1, 2], [1], [2], []]\n",
      "[['a', 'b'], ['a'], ['b'], []]\n"
     ]
    }
   ],
   "source": [
    "def power_set(s):\n",
    "    result = []\n",
    "\n",
    "    def backtrack(index, path):\n",
    "        if index == len(s):\n",
    "            result.append(path[:])\n",
    "            return\n",
    "        path.append(s[index])\n",
    "        backtrack(index + 1, path)\n",
    "        path.pop()\n",
    "        backtrack(index + 1, path)\n",
    "\n",
    "    backtrack(0, [])\n",
    "    return result\n",
    "\n",
    "# Test Cases\n",
    "print(power_set([1, 2]))      # [[], [1], [2], [1, 2]]\n",
    "print(power_set(['a', 'b']))  # [[], ['a'], ['b'], ['a', 'b']]\n",
    "\n",
    "# Time Complexity: O(2ⁿ)\n",
    "# Space Complexity: O(2ⁿ)"
   ]
  },
  {
   "cell_type": "code",
   "execution_count": null,
   "id": "cc4424bd-8b35-445a-bea0-ec4685674ed0",
   "metadata": {},
   "outputs": [],
   "source": []
  }
 ],
 "metadata": {
  "kernelspec": {
   "display_name": "Python 3 (ipykernel)",
   "language": "python",
   "name": "python3"
  },
  "language_info": {
   "codemirror_mode": {
    "name": "ipython",
    "version": 3
   },
   "file_extension": ".py",
   "mimetype": "text/x-python",
   "name": "python",
   "nbconvert_exporter": "python",
   "pygments_lexer": "ipython3",
   "version": "3.13.1"
  }
 },
 "nbformat": 4,
 "nbformat_minor": 5
}
