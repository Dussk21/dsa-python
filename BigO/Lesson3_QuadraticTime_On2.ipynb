{
 "cells": [
  {
   "cell_type": "code",
   "execution_count": 1,
   "id": "6948668c-e92d-458f-b86d-498bcb7201a4",
   "metadata": {},
   "outputs": [
    {
     "name": "stdout",
     "output_type": "stream",
     "text": [
      "False\n",
      "True\n"
     ]
    }
   ],
   "source": [
    "def has_duplicates(arr):\n",
    "    for i in range(len(arr)):\n",
    "        for j in range(i + 1, len(arr)):\n",
    "            if arr[i] == arr[j]:\n",
    "                return True\n",
    "    return False\n",
    "\n",
    "# Test Cases\n",
    "print(has_duplicates([1, 2, 3, 4]))    # False\n",
    "print(has_duplicates([1, 2, 3, 2]))    # True\n",
    "\n",
    "# Time Complexity: O(n²)\n",
    "# Space Complexity: O(1)"
   ]
  },
  {
   "cell_type": "code",
   "execution_count": 2,
   "id": "0cbd140c-8ea8-4a30-ae11-8b2f90502020",
   "metadata": {},
   "outputs": [
    {
     "name": "stdout",
     "output_type": "stream",
     "text": [
      "[(1, 4), (2, 3)]\n",
      "[(-3, 1)]\n"
     ]
    }
   ],
   "source": [
    "def find_pairs_with_sum(arr, target):\n",
    "    pairs = []\n",
    "    for i in range(len(arr)):\n",
    "        for j in range(i + 1, len(arr)):\n",
    "            if arr[i] + arr[j] == target:\n",
    "                pairs.append((arr[i], arr[j]))\n",
    "    return pairs\n",
    "\n",
    "# Test Cases\n",
    "print(find_pairs_with_sum([1, 2, 3, 4], 5))  # [(1, 4), (2, 3)]\n",
    "print(find_pairs_with_sum([0, -1, 2, -3, 1], -2))  # [(0, -2), (-1, -1)] (depends on input)\n",
    "\n",
    "# Time Complexity: O(n²)\n",
    "# Space Complexity: O(n) for result list"
   ]
  },
  {
   "cell_type": "code",
   "execution_count": null,
   "id": "c71bc57d-8fdc-48ac-9239-64e4cd7c7c52",
   "metadata": {},
   "outputs": [],
   "source": []
  }
 ],
 "metadata": {
  "kernelspec": {
   "display_name": "Python 3 (ipykernel)",
   "language": "python",
   "name": "python3"
  },
  "language_info": {
   "codemirror_mode": {
    "name": "ipython",
    "version": 3
   },
   "file_extension": ".py",
   "mimetype": "text/x-python",
   "name": "python",
   "nbconvert_exporter": "python",
   "pygments_lexer": "ipython3",
   "version": "3.13.1"
  }
 },
 "nbformat": 4,
 "nbformat_minor": 5
}
