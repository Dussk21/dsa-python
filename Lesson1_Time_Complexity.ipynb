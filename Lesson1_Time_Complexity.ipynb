{
 "cells": [
  {
   "cell_type": "code",
   "execution_count": 5,
   "id": "f6d169aa-2587-4d6a-bef6-4512009a430f",
   "metadata": {},
   "outputs": [
    {
     "name": "stdin",
     "output_type": "stream",
     "text": [
      "enter numbers separated by space:  5 4 6 7 8\n"
     ]
    },
    {
     "name": "stdout",
     "output_type": "stream",
     "text": [
      "Max: 8\n"
     ]
    }
   ],
   "source": [
    "def find_max(arr):\n",
    "    # Assume arr is non-empty\n",
    "    max_val = arr[0]          # O(1)\n",
    "    for num in arr:           # O(n)\n",
    "        if num > max_val:\n",
    "            max_val = num    # O(1)\n",
    "    return max_val            # O(1)\n",
    "\n",
    "message = input(\"enter numbers separated by space: \")\n",
    "usr_str = message.split()\n",
    "\n",
    "numbers = []\n",
    "\n",
    "for num in usr_str:\n",
    "    numbers.append(int(num))\n",
    "\n",
    "print(\"Max:\", find_max(numbers))\n"
   ]
  },
  {
   "cell_type": "code",
   "execution_count": null,
   "id": "cb21bfe8-3be0-4523-abc1-728ac34a7e12",
   "metadata": {},
   "outputs": [],
   "source": []
  }
 ],
 "metadata": {
  "kernelspec": {
   "display_name": "Python 3 (ipykernel)",
   "language": "python",
   "name": "python3"
  },
  "language_info": {
   "codemirror_mode": {
    "name": "ipython",
    "version": 3
   },
   "file_extension": ".py",
   "mimetype": "text/x-python",
   "name": "python",
   "nbconvert_exporter": "python",
   "pygments_lexer": "ipython3",
   "version": "3.13.1"
  }
 },
 "nbformat": 4,
 "nbformat_minor": 5
}
